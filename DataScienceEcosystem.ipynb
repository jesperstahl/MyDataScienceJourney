{
 "cells": [
  {
   "cell_type": "markdown",
   "metadata": {},
   "source": [
    "<center>\n",
    "    <img src=\"https://cf-courses-data.s3.us.cloud-object-storage.appdomain.cloud/IBMDeveloperSkillsNetwork-DS0105EN-SkillsNetwork/labs/Module2/images/SN_web_lightmode.png\" width=\"300\" alt=\"cognitiveclass.ai logo\">\n",
    "</center>\n"
   ]
  },
  {
   "cell_type": "markdown",
   "metadata": {},
   "source": [
    "# Data Science Tools and Ecosystem"
   ]
  },
  {
   "cell_type": "markdown",
   "metadata": {},
   "source": [
    "## In this notebook, Data Science Tools and Ecosystem are summarized."
   ]
  },
  {
   "cell_type": "markdown",
   "metadata": {},
   "source": [
    "#### Objectives:\n",
    "-  List some of the popular languages used in Data Science\n",
    "-  List some commonly used libraries in Data Science\n",
    "-  List a few commonly used Data Science tools\n",
    "-  Provide a few code examples of simple arithmetic operations"
   ]
  },
  {
   "cell_type": "markdown",
   "metadata": {},
   "source": [
    "#### Some of the popular languages that Data Scientists use are:\n",
    "1. Pyhton - Widely used for its simplicity, rich ecosystem (NumPy, pandas, scikit-learn, TensorFlow), and versatility in data manipulation, machine learning, and visualization.\n",
    "2. R - Especially strong in statistical analysis and data visualization. Preferred in academia and research-heavy environments.\n",
    "3. SQL - Essential for querying and managing structured data in relational databases. Often used in data wrangling and ETL pipelines.\n",
    "4. Julia - Known for high performance in numerical computing and growing popularity in scientific computing and machine learni\n",
    "5. Scala - Often used with Apache Spark for big data processing due to its functional programming capabilities and JVM compatibility."
   ]
  },
  {
   "cell_type": "markdown",
   "metadata": {},
   "source": [
    "#### Some of the commonly used libraries used by Data Scientists include:\n",
    "1. pandas – Powerful data structures for tabular data and time series.\n",
    "2. NumPy – Efficient numerical computations and array operations\n",
    "3. Matplotlib – Basic plotting and charting.\n",
    "4. Seaborn – Statistical data visualization built on top of Matplotlib.\n",
    "5. scikit-learn – Classic ML algorithms for classification, regression, clustering\n",
    "6. XGBoost – Gradient boosting framework optimized for speed and performance\n",
    "7. TensorFlow – Deep learning framework by Google.\n",
    "8. NLTK – Toolkit for symbolic and statistical NLP."
   ]
  },
  {
   "cell_type": "markdown",
   "metadata": {},
   "source": [
    "<table align=\"left\" border=\"1\" cellpadding=\"5\">\n",
    "  <tr>\n",
    "    <th>Data Science Tools</th>\n",
    "    <th>Description</th>\n",
    "  </tr>\n",
    "  <tr>\n",
    "    <td>Jupyter Notebook</td>\n",
    "    <td>Interactive web-based environment for writing and running Python code, visualizations, and documentation.</td>\n",
    "  </tr>\n",
    "  <tr>\n",
    "    <td>RStudio</td>\n",
    "    <td>Integrated development environment (IDE) for R, used for statistical computing and graphics.</td>\n",
    "  </tr>\n",
    "  <tr>\n",
    "    <td>Visual Studio Code (VS Code)</td>\n",
    "    <td>Lightweight, extensible code editor with support for Python, R, and many other languages via plugins.</td>\n",
    "  </tr>\n",
    "</table>"
   ]
  },
  {
   "cell_type": "markdown",
   "metadata": {},
   "source": [
    "### Below are a few examples of evaluating arithmetic expressions in Python"
   ]
  },
  {
   "cell_type": "code",
   "execution_count": null,
   "metadata": {},
   "outputs": [
    {
     "data": {
      "text/plain": [
       "17"
      ]
     },
     "execution_count": 5,
     "metadata": {},
     "output_type": "execute_result"
    }
   ],
   "source": [
    "# This is a simple arithmetic expression to multyply then add integers\n",
    "\n",
    "# Multiply 3 by 4, then add 5\n",
    "(3 * 4) + 5\n",
    "\n",
    "# Executing this cell will output 17"
   ]
  },
  {
   "cell_type": "code",
   "execution_count": null,
   "metadata": {},
   "outputs": [
    {
     "data": {
      "text/plain": [
       "3.3333333333333335"
      ]
     },
     "execution_count": 6,
     "metadata": {},
     "output_type": "execute_result"
    }
   ],
   "source": [
    "# This antother example converting minutes to hours by dividing by 60\n",
    "total_minutes = 200\n",
    "minutes_per_hour = 60\n",
    "total_hours = total_minutes / minutes_per_hour\n",
    "\n",
    "# Executing this cell output 3.3333333333333335 as total_hours"
   ]
  },
  {
   "cell_type": "markdown",
   "metadata": {},
   "source": [
    "## Author\n",
    "Jesper Ståhl"
   ]
  }
 ],
 "metadata": {
  "kernelspec": {
   "display_name": "Python 3 (ipykernel)",
   "language": "python",
   "name": "python3"
  },
  "language_info": {
   "codemirror_mode": {
    "name": "ipython",
    "version": 3
   },
   "file_extension": ".py",
   "mimetype": "text/x-python",
   "name": "python",
   "nbconvert_exporter": "python",
   "pygments_lexer": "ipython3",
   "version": "3.12.8"
  }
 },
 "nbformat": 4,
 "nbformat_minor": 4
}
